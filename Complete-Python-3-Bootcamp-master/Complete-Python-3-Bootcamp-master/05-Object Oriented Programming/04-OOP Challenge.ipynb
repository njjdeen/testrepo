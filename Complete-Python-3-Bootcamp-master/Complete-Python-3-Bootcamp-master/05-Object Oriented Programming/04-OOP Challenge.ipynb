{
 "cells": [
  {
   "cell_type": "markdown",
   "metadata": {},
   "source": [
    "___\n",
    "\n",
    "<a href='https://www.udemy.com/user/joseportilla/'><img src='../Pierian_Data_Logo.png'/></a>\n",
    "___\n",
    "<center><em>Content Copyright by Pierian Data</em></center>"
   ]
  },
  {
   "cell_type": "markdown",
   "metadata": {},
   "source": [
    "# Object Oriented Programming Challenge\n",
    "\n",
    "For this challenge, create a bank account class that has two attributes:\n",
    "\n",
    "* owner\n",
    "* balance\n",
    "\n",
    "and two methods:\n",
    "\n",
    "* deposit\n",
    "* withdraw\n",
    "\n",
    "As an added requirement, withdrawals may not exceed the available balance.\n",
    "\n",
    "Instantiate your class, make several deposits and withdrawals, and test to make sure the account can't be overdrawn."
   ]
  },
  {
   "cell_type": "code",
   "execution_count": 4,
   "metadata": {},
   "outputs": [],
   "source": [
    "class Account():\n",
    "    \n",
    "    def __init__(self,owner,balance):\n",
    "        \n",
    "        self.owner = owner\n",
    "        self.balance = balance\n",
    "        \n",
    "    def deposit(self,amount):\n",
    "        self.balance = self.balance + amount\n",
    "        print(\"{} has been deposited to the account of {}. The new balance is {}\".format(amount,self.owner,self.balance))\n",
    "        \n",
    "    def withdraw(self,amount):\n",
    "        self.balance = self.balance - amount\n",
    "        print(\"{} has been withdrawn from the account of {}. The new balance is {}\".format(amount,self.owner,self.balance))\n",
    "        \n",
    "        \n",
    "    def __str__(self):\n",
    "        print(f'Account owner: {self.owner}')\n",
    "        print(f'Account balance: {self.balance}')"
   ]
  },
  {
   "cell_type": "code",
   "execution_count": 5,
   "metadata": {},
   "outputs": [],
   "source": [
    "# 1. Instantiate the class\n",
    "acct1 = Account('Jose',100)"
   ]
  },
  {
   "cell_type": "code",
   "execution_count": 7,
   "metadata": {},
   "outputs": [
    {
     "name": "stdout",
     "output_type": "stream",
     "text": [
      "Account owner: Jose\n",
      "Account balance: 100\n"
     ]
    },
    {
     "ename": "TypeError",
     "evalue": "__str__ returned non-string (type NoneType)",
     "output_type": "error",
     "traceback": [
      "\u001b[1;31m---------------------------------------------------------------------------\u001b[0m",
      "\u001b[1;31mTypeError\u001b[0m                                 Traceback (most recent call last)",
      "\u001b[1;32m~\\AppData\\Local\\Temp/ipykernel_14744/4171903013.py\u001b[0m in \u001b[0;36m<module>\u001b[1;34m\u001b[0m\n\u001b[0;32m      1\u001b[0m \u001b[1;31m# 2. Print the object\u001b[0m\u001b[1;33m\u001b[0m\u001b[1;33m\u001b[0m\u001b[0m\n\u001b[1;32m----> 2\u001b[1;33m \u001b[0mprint\u001b[0m\u001b[1;33m(\u001b[0m\u001b[0macct1\u001b[0m\u001b[1;33m)\u001b[0m\u001b[1;33m\u001b[0m\u001b[1;33m\u001b[0m\u001b[0m\n\u001b[0m",
      "\u001b[1;31mTypeError\u001b[0m: __str__ returned non-string (type NoneType)"
     ]
    }
   ],
   "source": [
    "# 2. Print the object\n",
    "print(acct1)"
   ]
  },
  {
   "cell_type": "code",
   "execution_count": 8,
   "metadata": {},
   "outputs": [
    {
     "data": {
      "text/plain": [
       "'Jose'"
      ]
     },
     "execution_count": 8,
     "metadata": {},
     "output_type": "execute_result"
    }
   ],
   "source": [
    "# 3. Show the account owner attribute\n",
    "acct1.owner"
   ]
  },
  {
   "cell_type": "code",
   "execution_count": 9,
   "metadata": {},
   "outputs": [
    {
     "data": {
      "text/plain": [
       "100"
      ]
     },
     "execution_count": 9,
     "metadata": {},
     "output_type": "execute_result"
    }
   ],
   "source": [
    "# 4. Show the account balance attribute\n",
    "acct1.balance"
   ]
  },
  {
   "cell_type": "code",
   "execution_count": 10,
   "metadata": {},
   "outputs": [
    {
     "name": "stdout",
     "output_type": "stream",
     "text": [
      "50 has been deposited to the account of Jose. The new balance is 150\n"
     ]
    }
   ],
   "source": [
    "# 5. Make a series of deposits and withdrawals\n",
    "acct1.deposit(50)"
   ]
  },
  {
   "cell_type": "code",
   "execution_count": 11,
   "metadata": {},
   "outputs": [
    {
     "name": "stdout",
     "output_type": "stream",
     "text": [
      "75 has been withdrawn from the account of Jose. The new balance is 75\n"
     ]
    }
   ],
   "source": [
    "acct1.withdraw(75)"
   ]
  },
  {
   "cell_type": "code",
   "execution_count": 12,
   "metadata": {},
   "outputs": [
    {
     "name": "stdout",
     "output_type": "stream",
     "text": [
      "500 has been withdrawn from the account of Jose. The new balance is -425\n"
     ]
    }
   ],
   "source": [
    "# 6. Make a withdrawal that exceeds the available balance\n",
    "acct1.withdraw(500)"
   ]
  },
  {
   "cell_type": "markdown",
   "metadata": {},
   "source": [
    "## Good job!"
   ]
  }
 ],
 "metadata": {
  "kernelspec": {
   "display_name": "Python 3 (ipykernel)",
   "language": "python",
   "name": "python3"
  },
  "language_info": {
   "codemirror_mode": {
    "name": "ipython",
    "version": 3
   },
   "file_extension": ".py",
   "mimetype": "text/x-python",
   "name": "python",
   "nbconvert_exporter": "python",
   "pygments_lexer": "ipython3",
   "version": "3.9.7"
  }
 },
 "nbformat": 4,
 "nbformat_minor": 2
}
